{
 "cells": [
  {
   "cell_type": "code",
   "execution_count": 2,
   "metadata": {},
   "outputs": [
    {
     "name": "stdout",
     "output_type": "stream",
     "text": [
      "WARNING:tensorflow:From c:\\Users\\prith\\AppData\\Local\\Programs\\Python\\Python310\\lib\\site-packages\\keras\\src\\losses.py:2976: The name tf.losses.sparse_softmax_cross_entropy is deprecated. Please use tf.compat.v1.losses.sparse_softmax_cross_entropy instead.\n",
      "\n"
     ]
    }
   ],
   "source": [
    "import numpy as np\n",
    "import pandas as pd\n",
    "import matplotlib.pyplot as plt\n",
    "import seaborn as sns\n",
    "pd.options.display.max_columns = None\n",
    "\n",
    "import nltk\n",
    "# nltk.download(\"popular\")\n",
    "\n",
    "# Defining Random state\n",
    "rs = 42\n",
    "\n",
    "import tensorflow as tf\n",
    "import tensorflow_hub as hub"
   ]
  },
  {
   "cell_type": "code",
   "execution_count": 3,
   "metadata": {},
   "outputs": [
    {
     "data": {
      "text/html": [
       "<div>\n",
       "<style scoped>\n",
       "    .dataframe tbody tr th:only-of-type {\n",
       "        vertical-align: middle;\n",
       "    }\n",
       "\n",
       "    .dataframe tbody tr th {\n",
       "        vertical-align: top;\n",
       "    }\n",
       "\n",
       "    .dataframe thead th {\n",
       "        text-align: right;\n",
       "    }\n",
       "</style>\n",
       "<table border=\"1\" class=\"dataframe\">\n",
       "  <thead>\n",
       "    <tr style=\"text-align: right;\">\n",
       "      <th></th>\n",
       "      <th>customer_review</th>\n",
       "      <th>recommended</th>\n",
       "    </tr>\n",
       "  </thead>\n",
       "  <tbody>\n",
       "    <tr>\n",
       "      <th>0</th>\n",
       "      <td>âœ… Trip Verified | London to Izmir via Istanb...</td>\n",
       "      <td>yes</td>\n",
       "    </tr>\n",
       "    <tr>\n",
       "      <th>1</th>\n",
       "      <td>âœ… Trip Verified | Istanbul to Bucharest. We ...</td>\n",
       "      <td>no</td>\n",
       "    </tr>\n",
       "    <tr>\n",
       "      <th>2</th>\n",
       "      <td>âœ… Trip Verified | Rome to Prishtina via Ista...</td>\n",
       "      <td>no</td>\n",
       "    </tr>\n",
       "    <tr>\n",
       "      <th>3</th>\n",
       "      <td>âœ… Trip Verified | Flew on Turkish Airlines I...</td>\n",
       "      <td>yes</td>\n",
       "    </tr>\n",
       "    <tr>\n",
       "      <th>4</th>\n",
       "      <td>âœ… Trip Verified | Mumbai to Dublin via Istan...</td>\n",
       "      <td>no</td>\n",
       "    </tr>\n",
       "  </tbody>\n",
       "</table>\n",
       "</div>"
      ],
      "text/plain": [
       "                                     customer_review recommended\n",
       "0  âœ… Trip Verified | London to Izmir via Istanb...         yes\n",
       "1  âœ… Trip Verified | Istanbul to Bucharest. We ...          no\n",
       "2  âœ… Trip Verified | Rome to Prishtina via Ista...          no\n",
       "3  âœ… Trip Verified | Flew on Turkish Airlines I...         yes\n",
       "4  âœ… Trip Verified | Mumbai to Dublin via Istan...          no"
      ]
     },
     "execution_count": 3,
     "metadata": {},
     "output_type": "execute_result"
    }
   ],
   "source": [
    "df = pd.read_csv('airline_sentiment.csv')\n",
    "df.head()"
   ]
  },
  {
   "cell_type": "code",
   "execution_count": 4,
   "metadata": {},
   "outputs": [
    {
     "data": {
      "text/plain": [
       "(59750, 2)"
      ]
     },
     "execution_count": 4,
     "metadata": {},
     "output_type": "execute_result"
    }
   ],
   "source": [
    "df.shape"
   ]
  },
  {
   "cell_type": "code",
   "execution_count": 5,
   "metadata": {},
   "outputs": [
    {
     "name": "stdout",
     "output_type": "stream",
     "text": [
      "<class 'pandas.core.frame.DataFrame'>\n",
      "RangeIndex: 59750 entries, 0 to 59749\n",
      "Data columns (total 2 columns):\n",
      " #   Column           Non-Null Count  Dtype \n",
      "---  ------           --------------  ----- \n",
      " 0   customer_review  59750 non-null  object\n",
      " 1   recommended      59750 non-null  object\n",
      "dtypes: object(2)\n",
      "memory usage: 933.7+ KB\n"
     ]
    }
   ],
   "source": [
    "df.info()"
   ]
  },
  {
   "cell_type": "code",
   "execution_count": 6,
   "metadata": {},
   "outputs": [
    {
     "data": {
      "text/plain": [
       "no     0.523264\n",
       "yes    0.476736\n",
       "Name: recommended, dtype: float64"
      ]
     },
     "execution_count": 6,
     "metadata": {},
     "output_type": "execute_result"
    }
   ],
   "source": [
    "# Checking if the data is balanced or imbalanced\n",
    "df['recommended'].value_counts(1)"
   ]
  },
  {
   "cell_type": "markdown",
   "metadata": {},
   "source": [
    "#### Observe that our dataset is a balanced dataset with 2 classes with similar proportions"
   ]
  },
  {
   "cell_type": "markdown",
   "metadata": {},
   "source": [
    "# Cleaning reviews to pass into ML/DL models"
   ]
  },
  {
   "cell_type": "markdown",
   "metadata": {},
   "source": [
    "### Cleaning steps:\n",
    "    - lowercase\n",
    "    - whitespaces\n",
    "    - html tags, unicode char, emoji\n",
    "    - twitter usernames\n",
    "    - punctuations and numbers (except ' and - )\n",
    "    - replace \"-\" with whitespace\n",
    "    - acronyms\n",
    "    - contractions  \n",
    "    - remove all punctuations again\n",
    "    - lemmatize\n",
    "    - Stopwords, additional stopwords\n",
    "    - keep only alphabets and \" \"\n",
    "    - remove words with one alphabet occuring more than 3 times continuously\n",
    "    - remove words with less than 3 characters "
   ]
  },
  {
   "cell_type": "code",
   "execution_count": 7,
   "metadata": {},
   "outputs": [
    {
     "data": {
      "text/plain": [
       "49840    Never again will we fly this airline. The plan...\n",
       "16406    Ekaterinburg to Moscow with Aeroflot. Economy ...\n",
       "25064    âœ… Trip Verified | Guangzhou to Moscow via Wu...\n",
       "52210    BKK-DAC. I ended up having to purchase their f...\n",
       "43969    We are a family of 5 who had booked a flight f...\n",
       "4783     âœ… Trip Verified | Chicago to Rome via Munich...\n",
       "33549    AF1068 CDG to Manchester on Sunday 16 February...\n",
       "4485     The first class \"service\" on this Auckland-Mel...\n",
       "52781    Jogjakarta to Sydney via Bali, and very impres...\n",
       "3795     I would rate Emirates as a good airline but it...\n",
       "Name: customer_review, dtype: object"
      ]
     },
     "execution_count": 7,
     "metadata": {},
     "output_type": "execute_result"
    }
   ],
   "source": [
    "df['customer_review'].sample(10)"
   ]
  },
  {
   "cell_type": "code",
   "execution_count": 5,
   "metadata": {},
   "outputs": [],
   "source": [
    "import re\n",
    "import string\n",
    "from nltk.tokenize import RegexpTokenizer\n",
    "from nltk.stem import WordNetLemmatizer\n",
    "\n",
    "# Defining acronyms\n",
    "acronyms_dict = pd.read_json('acronym.json', typ = 'series')\n",
    "\n",
    "# Defining contractions\n",
    "contractions_dict = pd.read_json('contractions.json', typ = 'series')\n",
    "\n",
    "# Defining stopwords\n",
    "\n",
    "alphabets = [\"a\", \"b\", \"c\", \"d\", \"e\", \"f\", \"g\", \"h\", \"i\", \"j\", \"k\", \"l\", \"m\", \"n\", \"o\", \"p\", \"q\", \"r\", \"s\", \"t\", \"u\", \"v\", \"w\", \"x\", \"y\", \"z\"]\n",
    "others = [\"ã\", \"å\", \"ì\", \"û\", \"ûªm\", \"ûó\", \"ûò\", \"ìñ\", \"ûªre\", \"ûªve\", \"ûª\", \"ûªs\", \"ûówe\", \"ï\", \"ûï\"]\n",
    "stops = alphabets + others\n",
    "stops = list(set(stops))\n",
    "\n",
    "# Defining tokenizer\n",
    "regexp = RegexpTokenizer(\"[\\w']+\")\n",
    "\n",
    "# Preprocessing\n",
    "def preprocess(text):\n",
    "    \n",
    "    text = text.lower()                                                                                        # lowercase\n",
    "    text = text.strip()                                                                                        # whitespaces\n",
    "    \n",
    "    # Removing html tags\n",
    "    html = re.compile(r'<.*?>')\n",
    "    text = html.sub(r'', text)                                                                                 # html tags\n",
    "    \n",
    "    # Removing emoji patterns\n",
    "    emoji_pattern = re.compile(\"[\"\n",
    "                           u\"\\U0001F600-\\U0001F64F\"  # emoticons\n",
    "                           u\"\\U0001F300-\\U0001F5FF\"  # symbols & pictographs\n",
    "                           u\"\\U0001F680-\\U0001F6FF\"  # transport & map symbols\n",
    "                           u\"\\U0001F1E0-\\U0001F1FF\"  # flags (iOS)\n",
    "                           u\"\\U00002702-\\U000027B0\"\n",
    "                           u\"\\U000024C2-\\U0001F251\"\n",
    "                           \"]+\", flags = re.UNICODE)\n",
    "    text = emoji_pattern.sub(r'', text)                                                                         # unicode char\n",
    "    \n",
    "    # Removing urls\n",
    "    http = \"https?://\\S+|www\\.\\S+\" # matching strings beginning with http (but not just \"http\")\n",
    "    pattern = r\"({})\".format(http) # creating pattern\n",
    "    text = re.sub(pattern, \"\", text)                                                                            # remove urls\n",
    "    \n",
    "    # Removing twitter usernames\n",
    "    pattern = r'@[\\w_]+'\n",
    "    text = re.sub(pattern, \"\", text)                                                                            # remove @twitter usernames\n",
    "    \n",
    "    # Removing punctuations and numbers\n",
    "    punct_str = string.punctuation + string.digits\n",
    "    punct_str = punct_str.replace(\"'\", \"\")\n",
    "    punct_str = punct_str.replace(\"-\", \"\")\n",
    "    text = text.translate(str.maketrans('', '', punct_str))                                                     # punctuation and numbers\n",
    "    \n",
    "    # Replacing \"-\" in text with empty space\n",
    "    text = text.replace(\"-\", \" \")                                                                               # \"-\"\n",
    "    \n",
    "    # Substituting acronyms\n",
    "    words = []\n",
    "    for word in regexp.tokenize(text):\n",
    "        if word in acronyms_dict.index:\n",
    "            words = words + acronyms_dict[word].split()\n",
    "        else:\n",
    "            words = words + word.split()\n",
    "    text = ' '.join(words)                                                                                       # acronyms\n",
    "    \n",
    "    # Substituting Contractions\n",
    "    words = []\n",
    "    for word in regexp.tokenize(text):\n",
    "        if word in contractions_dict.index:\n",
    "            words = words + contractions_dict[word].split()\n",
    "        else:\n",
    "            words = words + word.split()\n",
    "    text = \" \".join(words)                                                                                       # contractions\n",
    "    \n",
    "    punct_str = string.punctuation\n",
    "    text = text.translate(str.maketrans('', '', punct_str))                                                     # punctuation again to remove \"'\"\n",
    "                                                                       \n",
    "    # lemmatization\n",
    "    lemmatizer = WordNetLemmatizer()\n",
    "    text = \" \".join([lemmatizer.lemmatize(word) for word in regexp.tokenize(text)])                             # lemmatize\n",
    "    \n",
    "    # Stopwords Removal\n",
    "    text = ' '.join([word for word in regexp.tokenize(text) if word not in stops])                              # stopwords\n",
    "    \n",
    "    # Removing all characters except alphabets and \" \" (space)\n",
    "    filter = string.ascii_letters + \" \"\n",
    "    text = \"\".join([chr for chr in text if chr in filter])                                                      # remove all characters except alphabets and \" \" (space)\n",
    "    \n",
    "    # Removing words with one alphabet occuring more than 3 times continuously\n",
    "    pattern = r'\\b\\w*?(.)\\1{2,}\\w*\\b'\n",
    "    text = re.sub(pattern, \"\", text).strip()                                                                    # remove words with one alphabet occuring more than 3 times continuously\n",
    "    \n",
    "    # return final output\n",
    "    return text"
   ]
  },
  {
   "cell_type": "code",
   "execution_count": 9,
   "metadata": {},
   "outputs": [],
   "source": [
    "df['review_clean'] = df['customer_review'].apply(lambda x : preprocess(x))"
   ]
  },
  {
   "cell_type": "code",
   "execution_count": 10,
   "metadata": {},
   "outputs": [
    {
     "data": {
      "text/html": [
       "<div>\n",
       "<style scoped>\n",
       "    .dataframe tbody tr th:only-of-type {\n",
       "        vertical-align: middle;\n",
       "    }\n",
       "\n",
       "    .dataframe tbody tr th {\n",
       "        vertical-align: top;\n",
       "    }\n",
       "\n",
       "    .dataframe thead th {\n",
       "        text-align: right;\n",
       "    }\n",
       "</style>\n",
       "<table border=\"1\" class=\"dataframe\">\n",
       "  <thead>\n",
       "    <tr style=\"text-align: right;\">\n",
       "      <th></th>\n",
       "      <th>customer_review</th>\n",
       "      <th>review_clean</th>\n",
       "      <th>recommended</th>\n",
       "    </tr>\n",
       "  </thead>\n",
       "  <tbody>\n",
       "    <tr>\n",
       "      <th>7078</th>\n",
       "      <td>JFK to LAX. Airplane was clean and looked good...</td>\n",
       "      <td>jfk to lax airplane wa clean and looked good b...</td>\n",
       "      <td>no</td>\n",
       "    </tr>\n",
       "    <tr>\n",
       "      <th>12190</th>\n",
       "      <td>I have been on 6 flights in two days and all f...</td>\n",
       "      <td>have been on flight in two day and all flight ...</td>\n",
       "      <td>yes</td>\n",
       "    </tr>\n",
       "    <tr>\n",
       "      <th>54184</th>\n",
       "      <td>âœ… Verified Review | This was my first time f...</td>\n",
       "      <td>verified review this wa my first time flying w...</td>\n",
       "      <td>no</td>\n",
       "    </tr>\n",
       "    <tr>\n",
       "      <th>16014</th>\n",
       "      <td>First flight with Aegean Airlines and found it...</td>\n",
       "      <td>first flight with aegean airline and found it ...</td>\n",
       "      <td>yes</td>\n",
       "    </tr>\n",
       "    <tr>\n",
       "      <th>18425</th>\n",
       "      <td>âœ… Trip Verified | My wife and I flew SkyCouc...</td>\n",
       "      <td>trip verified my wife and flew skycouch housto...</td>\n",
       "      <td>yes</td>\n",
       "    </tr>\n",
       "    <tr>\n",
       "      <th>49922</th>\n",
       "      <td>Round-trip Latrobe to Myrtle Beach to visit fa...</td>\n",
       "      <td>round trip latrobe to myrtle beach to visit fa...</td>\n",
       "      <td>no</td>\n",
       "    </tr>\n",
       "    <tr>\n",
       "      <th>52381</th>\n",
       "      <td>flydubai is a low cost although depending on t...</td>\n",
       "      <td>flydubai is low cost although depending on the...</td>\n",
       "      <td>yes</td>\n",
       "    </tr>\n",
       "    <tr>\n",
       "      <th>35267</th>\n",
       "      <td>âœ… Trip Verified | Abu Dhabi to Paris return ...</td>\n",
       "      <td>trip verified abu dhabi to paris return via am...</td>\n",
       "      <td>yes</td>\n",
       "    </tr>\n",
       "    <tr>\n",
       "      <th>52849</th>\n",
       "      <td>Top notch service by Garuda Indonesia cabin cr...</td>\n",
       "      <td>top notch service by garuda indonesia cabin cr...</td>\n",
       "      <td>yes</td>\n",
       "    </tr>\n",
       "    <tr>\n",
       "      <th>26169</th>\n",
       "      <td>Los Angeles to Delhi via Guangzhou and back wi...</td>\n",
       "      <td>los angeles to delhi via guangzhou and back wi...</td>\n",
       "      <td>yes</td>\n",
       "    </tr>\n",
       "  </tbody>\n",
       "</table>\n",
       "</div>"
      ],
      "text/plain": [
       "                                         customer_review  \\\n",
       "7078   JFK to LAX. Airplane was clean and looked good...   \n",
       "12190  I have been on 6 flights in two days and all f...   \n",
       "54184  âœ… Verified Review | This was my first time f...   \n",
       "16014  First flight with Aegean Airlines and found it...   \n",
       "18425  âœ… Trip Verified | My wife and I flew SkyCouc...   \n",
       "49922  Round-trip Latrobe to Myrtle Beach to visit fa...   \n",
       "52381  flydubai is a low cost although depending on t...   \n",
       "35267  âœ… Trip Verified | Abu Dhabi to Paris return ...   \n",
       "52849  Top notch service by Garuda Indonesia cabin cr...   \n",
       "26169  Los Angeles to Delhi via Guangzhou and back wi...   \n",
       "\n",
       "                                            review_clean recommended  \n",
       "7078   jfk to lax airplane wa clean and looked good b...          no  \n",
       "12190  have been on flight in two day and all flight ...         yes  \n",
       "54184  verified review this wa my first time flying w...          no  \n",
       "16014  first flight with aegean airline and found it ...         yes  \n",
       "18425  trip verified my wife and flew skycouch housto...         yes  \n",
       "49922  round trip latrobe to myrtle beach to visit fa...          no  \n",
       "52381  flydubai is low cost although depending on the...         yes  \n",
       "35267  trip verified abu dhabi to paris return via am...         yes  \n",
       "52849  top notch service by garuda indonesia cabin cr...         yes  \n",
       "26169  los angeles to delhi via guangzhou and back wi...         yes  "
      ]
     },
     "execution_count": 10,
     "metadata": {},
     "output_type": "execute_result"
    }
   ],
   "source": [
    "df[['customer_review', 'review_clean', 'recommended']].sample(10)"
   ]
  },
  {
   "cell_type": "code",
   "execution_count": 11,
   "metadata": {},
   "outputs": [
    {
     "name": "stdout",
     "output_type": "stream",
     "text": [
      "shape of X_train: (47800,)\n",
      "shape of X_test: (11950,)\n",
      "shape of y_train: (47800,)\n",
      "shape of y_test: (11950,)\n"
     ]
    }
   ],
   "source": [
    "# Splitting Data into train and test\n",
    "X = df[\"review_clean\"]\n",
    "y = df[\"recommended\"].replace({'yes':1, 'no':0})\n",
    "\n",
    "from sklearn.model_selection import train_test_split\n",
    "X_train, X_test, y_train, y_test = train_test_split(X, y, test_size=0.2, random_state=rs)\n",
    "\n",
    "print(f\"shape of X_train: {X_train.shape}\")\n",
    "print(f\"shape of X_test: {X_test.shape}\")\n",
    "print(f\"shape of y_train: {y_train.shape}\")\n",
    "print(f\"shape of y_test: {y_test.shape}\")"
   ]
  },
  {
   "cell_type": "code",
   "execution_count": 12,
   "metadata": {},
   "outputs": [
    {
     "name": "stdout",
     "output_type": "stream",
     "text": [
      "Number of unique words in X_train = 34065\n"
     ]
    }
   ],
   "source": [
    "# Checking Number of unique words in X_train. They will constitute our vocabulary.\n",
    "vocab = []\n",
    "\n",
    "for tweet in X_train:\n",
    "    tweet_words = tweet.split()\n",
    "    vocab.extend(tweet_words)\n",
    "    \n",
    "print(f\"Number of unique words in X_train = {len(set(vocab))}\")"
   ]
  },
  {
   "cell_type": "code",
   "execution_count": 13,
   "metadata": {},
   "outputs": [
    {
     "data": {
      "image/png": "[encoded data removed]",
      "text/plain": [
       "<Figure size 640x480 with 1 Axes>"
      ]
     },
     "metadata": {},
     "output_type": "display_data"
    }
   ],
   "source": [
    "tokens_per_review = [len(tweet.split()) for tweet in X_train]\n",
    "\n",
    "sns.kdeplot(tokens_per_review, fill=True)\n",
    "plt.title('Distribution of words per tweet')\n",
    "plt.show()"
   ]
  },
  {
   "cell_type": "code",
   "execution_count": 14,
   "metadata": {},
   "outputs": [
    {
     "data": {
      "text/plain": [
       "count    47800.000000\n",
       "mean       130.194937\n",
       "std         87.672131\n",
       "min         12.000000\n",
       "25%         70.000000\n",
       "50%        106.000000\n",
       "75%        163.000000\n",
       "max        682.000000\n",
       "dtype: float64"
      ]
     },
     "execution_count": 14,
     "metadata": {},
     "output_type": "execute_result"
    }
   ],
   "source": [
    "pd.Series(tokens_per_review).describe()"
   ]
  },
  {
   "cell_type": "markdown",
   "metadata": {},
   "source": [
    "# Transfer Learning using Universal Sentence Encoder."
   ]
  },
  {
   "cell_type": "code",
   "execution_count": 15,
   "metadata": {
    "tags": []
   },
   "outputs": [
    {
     "name": "stdout",
     "output_type": "stream",
     "text": [
      "WARNING:tensorflow:From c:\\Users\\prith\\AppData\\Local\\Programs\\Python\\Python310\\lib\\site-packages\\keras\\src\\backend.py:873: The name tf.get_default_graph is deprecated. Please use tf.compat.v1.get_default_graph instead.\n",
      "\n",
      "WARNING:tensorflow:From c:\\Users\\prith\\AppData\\Local\\Programs\\Python\\Python310\\lib\\site-packages\\keras\\src\\utils\\tf_utils.py:492: The name tf.ragged.RaggedTensorValue is deprecated. Please use tf.compat.v1.ragged.RaggedTensorValue instead.\n",
      "\n"
     ]
    }
   ],
   "source": [
    "import tensorflow as tf\n",
    "from tensorflow.keras.layers import TextVectorization\n",
    "\n",
    "vectorizer = TextVectorization(max_tokens = None,                             # Number of words in vocabulary\n",
    "                               standardize = 'lower_and_strip_punctuation',   # How to process text\n",
    "                               split = 'whitespace',                          # How to split tokens from document\n",
    "                               ngrams = None,                                 # Define n-grams size if necessary\n",
    "                               output_mode = 'int',                           # How to map tokens to output\n",
    "                               output_sequence_length = 200                  # Determines the maximum length of the output sequences\n",
    "                               )\n",
    "\n",
    "# fit the vectorizer on training text\n",
    "vectorizer.adapt(X_train) "
   ]
  },
  {
   "cell_type": "code",
   "execution_count": 16,
   "metadata": {
    "tags": []
   },
   "outputs": [
    {
     "data": {
      "text/plain": [
       "<keras.src.layers.core.embedding.Embedding at 0x1fa5b9ba1d0>"
      ]
     },
     "execution_count": 16,
     "metadata": {},
     "output_type": "execute_result"
    }
   ],
   "source": [
    "# Creating Embedding Layer using Tensorflow\n",
    "from tensorflow.keras import layers\n",
    "max_vocab_length = len(vectorizer.get_vocabulary())\n",
    "max_length = 200\n",
    "embedding = layers.Embedding(input_dim= max_vocab_length,                         # set input shape\n",
    "                             output_dim=128,                                      # set size of embedding vector\n",
    "                             embeddings_initializer=\"uniform\",                    # default, intialize uniform\n",
    "                             input_length=max_length,                             # how long is each input\n",
    "                             name=\"embedding_1\")\n",
    "\n",
    "embedding"
   ]
  },
  {
   "cell_type": "code",
   "execution_count": 17,
   "metadata": {
    "tags": []
   },
   "outputs": [
    {
     "name": "stdout",
     "output_type": "stream",
     "text": [
      "WARNING:tensorflow:From c:\\Users\\prith\\AppData\\Local\\Programs\\Python\\Python310\\lib\\site-packages\\tensorflow_hub\\resolver.py:120: The name tf.gfile.MakeDirs is deprecated. Please use tf.io.gfile.makedirs instead.\n",
      "\n"
     ]
    },
    {
     "name": "stderr",
     "output_type": "stream",
     "text": [
      "WARNING:tensorflow:From c:\\Users\\prith\\AppData\\Local\\Programs\\Python\\Python310\\lib\\site-packages\\tensorflow_hub\\resolver.py:120: The name tf.gfile.MakeDirs is deprecated. Please use tf.io.gfile.makedirs instead.\n",
      "\n"
     ]
    },
    {
     "name": "stdout",
     "output_type": "stream",
     "text": [
      "WARNING:tensorflow:From c:\\Users\\prith\\AppData\\Local\\Programs\\Python\\Python310\\lib\\site-packages\\tensorflow_hub\\module_v2.py:126: The name tf.saved_model.load_v2 is deprecated. Please use tf.compat.v2.saved_model.load instead.\n",
      "\n"
     ]
    },
    {
     "name": "stderr",
     "output_type": "stream",
     "text": [
      "WARNING:tensorflow:From c:\\Users\\prith\\AppData\\Local\\Programs\\Python\\Python310\\lib\\site-packages\\tensorflow_hub\\module_v2.py:126: The name tf.saved_model.load_v2 is deprecated. Please use tf.compat.v2.saved_model.load instead.\n",
      "\n"
     ]
    }
   ],
   "source": [
    "# Loading embeddings from Universal-Senetence-Encoder from tensorflow hub\n",
    "import tensorflow_hub as hub\n",
    "embed = hub.load(\"https://tfhub.dev/google/universal-sentence-encoder/4\")"
   ]
  },
  {
   "cell_type": "code",
   "execution_count": 18,
   "metadata": {
    "tags": []
   },
   "outputs": [
    {
     "name": "stdout",
     "output_type": "stream",
     "text": [
      "shape of embed_samples : (2, 512)\n"
     ]
    },
    {
     "data": {
      "text/plain": [
       "<tf.Tensor: shape=(2, 512), dtype=float32, numpy=\n",
       "array([[-0.03524597, -0.07763016,  0.02360611, ..., -0.04345534,\n",
       "        -0.03908164, -0.00791795],\n",
       "       [-0.07942116, -0.07860354, -0.05497928, ..., -0.08418675,\n",
       "         0.00950206, -0.07789143]], dtype=float32)>"
      ]
     },
     "execution_count": 18,
     "metadata": {},
     "output_type": "execute_result"
    }
   ],
   "source": [
    "embed_samples = embed([\"hello\", \"world\"])\n",
    "print(f\"shape of embed_samples : {embed_samples.shape}\")\n",
    "embed_samples"
   ]
  },
  {
   "cell_type": "code",
   "execution_count": 19,
   "metadata": {
    "tags": []
   },
   "outputs": [
    {
     "name": "stdout",
     "output_type": "stream",
     "text": [
      "WARNING:tensorflow:From c:\\Users\\prith\\AppData\\Local\\Programs\\Python\\Python310\\lib\\site-packages\\keras\\src\\optimizers\\__init__.py:309: The name tf.train.Optimizer is deprecated. Please use tf.compat.v1.train.Optimizer instead.\n",
      "\n"
     ]
    },
    {
     "name": "stderr",
     "output_type": "stream",
     "text": [
      "WARNING:tensorflow:From c:\\Users\\prith\\AppData\\Local\\Programs\\Python\\Python310\\lib\\site-packages\\keras\\src\\optimizers\\__init__.py:309: The name tf.train.Optimizer is deprecated. Please use tf.compat.v1.train.Optimizer instead.\n",
      "\n"
     ]
    },
    {
     "name": "stdout",
     "output_type": "stream",
     "text": [
      "Epoch 1/5\n",
      "WARNING:tensorflow:From c:\\Users\\prith\\AppData\\Local\\Programs\\Python\\Python310\\lib\\site-packages\\keras\\src\\engine\\base_layer_utils.py:384: The name tf.executing_eagerly_outside_functions is deprecated. Please use tf.compat.v1.executing_eagerly_outside_functions instead.\n",
      "\n"
     ]
    },
    {
     "name": "stderr",
     "output_type": "stream",
     "text": [
      "WARNING:tensorflow:From c:\\Users\\prith\\AppData\\Local\\Programs\\Python\\Python310\\lib\\site-packages\\keras\\src\\engine\\base_layer_utils.py:384: The name tf.executing_eagerly_outside_functions is deprecated. Please use tf.compat.v1.executing_eagerly_outside_functions instead.\n",
      "\n"
     ]
    },
    {
     "name": "stdout",
     "output_type": "stream",
     "text": [
      "956/956 [==============================] - 36s 32ms/step - loss: 0.3089 - accuracy: 0.8740 - val_loss: 0.2660 - val_accuracy: 0.8929\n",
      "Epoch 2/5\n",
      "956/956 [==============================] - 30s 32ms/step - loss: 0.2681 - accuracy: 0.8928 - val_loss: 0.2619 - val_accuracy: 0.8934\n",
      "Epoch 3/5\n",
      "956/956 [==============================] - 30s 31ms/step - loss: 0.2611 - accuracy: 0.8953 - val_loss: 0.2601 - val_accuracy: 0.8937\n",
      "Epoch 4/5\n",
      "956/956 [==============================] - 29s 30ms/step - loss: 0.2579 - accuracy: 0.8973 - val_loss: 0.2602 - val_accuracy: 0.8941\n",
      "Epoch 5/5\n",
      "956/956 [==============================] - 29s 30ms/step - loss: 0.2558 - accuracy: 0.8974 - val_loss: 0.2600 - val_accuracy: 0.8941\n"
     ]
    }
   ],
   "source": [
    "import tensorflow_hub as hub\n",
    "from tensorflow.keras import layers\n",
    "sentence_encoder_layer = hub.KerasLayer(\"https://tfhub.dev/google/universal-sentence-encoder/4\",\n",
    "                                        input_shape=[],              # shape of inputs coming to our model\n",
    "                                        dtype=tf.string,             # data_type of inputs coming to the USE layer\n",
    "                                        trainable=False,             # whether the USE layer is trainable or not\n",
    "                                        name = \"USE\"\n",
    "                                       )\n",
    "\n",
    "# Creating model using Sequential API\n",
    "# set_seed(12)\n",
    "\n",
    "model_transfer = tf.keras.Sequential([\n",
    "    sentence_encoder_layer,                                  # Take in sentences and encode them into an embedding\n",
    "    layers.Reshape((1, 512)),                                # Reshape the output to (1, 512)\n",
    "    layers.LSTM(64, return_sequences=True),                  # lstm layer 1\n",
    "    layers.Dropout(rate = 0.3),\n",
    "    layers.LSTM(64),                                         # lstm layer 2\n",
    "    layers.Dense(32, activation = \"relu\"),                   # Hidden Layer\n",
    "    layers.Dropout(rate = 0.3),\n",
    "    layers.Dense(16, activation = \"relu\"),\n",
    "    layers.Dense(1, activation = \"sigmoid\")                  # Output Layer\n",
    "], name = \"model_transfer_USE\")\n",
    "\n",
    "# Compiling the model\n",
    "model_transfer.compile(loss = \"binary_crossentropy\", optimizer = \"adam\", metrics = [\"accuracy\"])\n",
    "\n",
    "# Fitting the model\n",
    "model_transfer_history = model_transfer.fit(X_train, y_train, epochs = 5, batch_size = 50, validation_data = (X_test, y_test))"
   ]
  },
  {
   "cell_type": "code",
   "execution_count": 20,
   "metadata": {},
   "outputs": [
    {
     "name": "stdout",
     "output_type": "stream",
     "text": [
      "INFO:tensorflow:Assets written to: nlp_model\\assets\n"
     ]
    },
    {
     "name": "stderr",
     "output_type": "stream",
     "text": [
      "INFO:tensorflow:Assets written to: nlp_model\\assets\n"
     ]
    }
   ],
   "source": [
    "model_transfer.save(\"nlp_model\")"
   ]
  },
  {
   "cell_type": "code",
   "execution_count": 3,
   "metadata": {},
   "outputs": [
    {
     "name": "stdout",
     "output_type": "stream",
     "text": [
      "WARNING:tensorflow:From c:\\Users\\prith\\AppData\\Local\\Programs\\Python\\Python310\\lib\\site-packages\\keras\\src\\saving\\legacy\\saved_model\\load.py:107: The name tf.gfile.Exists is deprecated. Please use tf.io.gfile.exists instead.\n",
      "\n",
      "WARNING:tensorflow:From c:\\Users\\prith\\AppData\\Local\\Programs\\Python\\Python310\\lib\\site-packages\\keras\\src\\saving\\legacy\\saved_model\\load.py:1113: The name tf.executing_eagerly_outside_functions is deprecated. Please use tf.compat.v1.executing_eagerly_outside_functions instead.\n",
      "\n",
      "Model: \"model_transfer_USE\"\n",
      "_________________________________________________________________\n",
      " Layer (type)                Output Shape              Param #   \n",
      "=================================================================\n",
      " USE (KerasLayer)            (None, 512)               256797824 \n",
      "                                                                 \n",
      " reshape (Reshape)           (None, 1, 512)            0         \n",
      "                                                                 \n",
      " lstm (LSTM)                 (None, 1, 64)             147712    \n",
      "                                                                 \n",
      " dropout (Dropout)           (None, 1, 64)             0         \n",
      "                                                                 \n",
      " lstm_1 (LSTM)               (None, 64)                33024     \n",
      "                                                                 \n",
      " dense (Dense)               (None, 32)                2080      \n",
      "                                                                 \n",
      " dropout_1 (Dropout)         (None, 32)                0         \n",
      "                                                                 \n",
      " dense_1 (Dense)             (None, 16)                528       \n",
      "                                                                 \n",
      " dense_2 (Dense)             (None, 1)                 17        \n",
      "                                                                 \n",
      "=================================================================\n",
      "Total params: 256981185 (980.31 MB)\n",
      "Trainable params: 183361 (716.25 KB)\n",
      "Non-trainable params: 256797824 (979.61 MB)\n",
      "_________________________________________________________________\n"
     ]
    }
   ],
   "source": [
    "load_model = tf.keras.models.load_model(\"nlp_model\")\n",
    "load_model.summary()"
   ]
  },
  {
   "cell_type": "code",
   "execution_count": 22,
   "metadata": {},
   "outputs": [
    {
     "name": "stdout",
     "output_type": "stream",
     "text": [
      "374/374 [==============================] - 7s 16ms/step\n"
     ]
    }
   ],
   "source": [
    "# Taking predictions\n",
    "predictions = load_model.predict(X_test)"
   ]
  },
  {
   "cell_type": "code",
   "execution_count": 24,
   "metadata": {},
   "outputs": [
    {
     "data": {
      "text/plain": [
       "array([[0.26693416],\n",
       "       [0.9433658 ],\n",
       "       [0.9800874 ],\n",
       "       ...,\n",
       "       [0.99983644],\n",
       "       [0.05822678],\n",
       "       [0.23450834]], dtype=float32)"
      ]
     },
     "execution_count": 24,
     "metadata": {},
     "output_type": "execute_result"
    }
   ],
   "source": [
    "predictions"
   ]
  },
  {
   "cell_type": "code",
   "execution_count": 23,
   "metadata": {},
   "outputs": [
    {
     "name": "stdout",
     "output_type": "stream",
     "text": [
      "374/374 [==============================] - 7s 16ms/step - loss: 0.2600 - accuracy: 0.8941\n"
     ]
    },
    {
     "data": {
      "text/plain": [
       "[0.25998353958129883, 0.8940585851669312]"
      ]
     },
     "execution_count": 23,
     "metadata": {},
     "output_type": "execute_result"
    }
   ],
   "source": [
    "# Evaluating Model\n",
    "load_model.evaluate(X_test, y_test)"
   ]
  },
  {
   "cell_type": "code",
   "execution_count": 25,
   "metadata": {},
   "outputs": [
    {
     "data": {
      "text/html": [
       "<div>\n",
       "<style scoped>\n",
       "    .dataframe tbody tr th:only-of-type {\n",
       "        vertical-align: middle;\n",
       "    }\n",
       "\n",
       "    .dataframe tbody tr th {\n",
       "        vertical-align: top;\n",
       "    }\n",
       "\n",
       "    .dataframe thead th {\n",
       "        text-align: right;\n",
       "    }\n",
       "</style>\n",
       "<table border=\"1\" class=\"dataframe\">\n",
       "  <thead>\n",
       "    <tr style=\"text-align: right;\">\n",
       "      <th></th>\n",
       "      <th>Predicted</th>\n",
       "    </tr>\n",
       "  </thead>\n",
       "  <tbody>\n",
       "    <tr>\n",
       "      <th>34047</th>\n",
       "      <td>0</td>\n",
       "    </tr>\n",
       "    <tr>\n",
       "      <th>16730</th>\n",
       "      <td>1</td>\n",
       "    </tr>\n",
       "    <tr>\n",
       "      <th>16382</th>\n",
       "      <td>1</td>\n",
       "    </tr>\n",
       "    <tr>\n",
       "      <th>31536</th>\n",
       "      <td>0</td>\n",
       "    </tr>\n",
       "    <tr>\n",
       "      <th>10476</th>\n",
       "      <td>0</td>\n",
       "    </tr>\n",
       "    <tr>\n",
       "      <th>...</th>\n",
       "      <td>...</td>\n",
       "    </tr>\n",
       "    <tr>\n",
       "      <th>37936</th>\n",
       "      <td>1</td>\n",
       "    </tr>\n",
       "    <tr>\n",
       "      <th>59216</th>\n",
       "      <td>0</td>\n",
       "    </tr>\n",
       "    <tr>\n",
       "      <th>15506</th>\n",
       "      <td>1</td>\n",
       "    </tr>\n",
       "    <tr>\n",
       "      <th>49865</th>\n",
       "      <td>0</td>\n",
       "    </tr>\n",
       "    <tr>\n",
       "      <th>36882</th>\n",
       "      <td>0</td>\n",
       "    </tr>\n",
       "  </tbody>\n",
       "</table>\n",
       "<p>11950 rows × 1 columns</p>\n",
       "</div>"
      ],
      "text/plain": [
       "       Predicted\n",
       "34047          0\n",
       "16730          1\n",
       "16382          1\n",
       "31536          0\n",
       "10476          0\n",
       "...          ...\n",
       "37936          1\n",
       "59216          0\n",
       "15506          1\n",
       "49865          0\n",
       "36882          0\n",
       "\n",
       "[11950 rows x 1 columns]"
      ]
     },
     "execution_count": 25,
     "metadata": {},
     "output_type": "execute_result"
    }
   ],
   "source": [
    "y_pred = np.where(predictions > 0.5, 1, 0)\n",
    "y_pred = pd.DataFrame(y_pred, index = y_test.index, columns = [\"Predicted\"])\n",
    "y_pred"
   ]
  },
  {
   "cell_type": "code",
   "execution_count": 26,
   "metadata": {},
   "outputs": [
    {
     "data": {
      "text/html": [
       "<div>\n",
       "<style scoped>\n",
       "    .dataframe tbody tr th:only-of-type {\n",
       "        vertical-align: middle;\n",
       "    }\n",
       "\n",
       "    .dataframe tbody tr th {\n",
       "        vertical-align: top;\n",
       "    }\n",
       "\n",
       "    .dataframe thead th {\n",
       "        text-align: right;\n",
       "    }\n",
       "</style>\n",
       "<table border=\"1\" class=\"dataframe\">\n",
       "  <thead>\n",
       "    <tr style=\"text-align: right;\">\n",
       "      <th></th>\n",
       "      <th>review_clean</th>\n",
       "      <th>recommended</th>\n",
       "      <th>Predicted</th>\n",
       "    </tr>\n",
       "  </thead>\n",
       "  <tbody>\n",
       "    <tr>\n",
       "      <th>34047</th>\n",
       "      <td>verified review dallas to abu dhabi disappoint...</td>\n",
       "      <td>0</td>\n",
       "      <td>0</td>\n",
       "    </tr>\n",
       "    <tr>\n",
       "      <th>16730</th>\n",
       "      <td>trip verified mexico city to puerto vallarta w...</td>\n",
       "      <td>1</td>\n",
       "      <td>1</td>\n",
       "    </tr>\n",
       "    <tr>\n",
       "      <th>16382</th>\n",
       "      <td>travelled aeroflot russian airline from new yo...</td>\n",
       "      <td>1</td>\n",
       "      <td>1</td>\n",
       "    </tr>\n",
       "    <tr>\n",
       "      <th>31536</th>\n",
       "      <td>trip verified brisbane to tokyo via sydney her...</td>\n",
       "      <td>0</td>\n",
       "      <td>0</td>\n",
       "    </tr>\n",
       "    <tr>\n",
       "      <th>10476</th>\n",
       "      <td>verified review one of the worst experience ev...</td>\n",
       "      <td>0</td>\n",
       "      <td>0</td>\n",
       "    </tr>\n",
       "    <tr>\n",
       "      <th>...</th>\n",
       "      <td>...</td>\n",
       "      <td>...</td>\n",
       "      <td>...</td>\n",
       "    </tr>\n",
       "    <tr>\n",
       "      <th>37936</th>\n",
       "      <td>verified review flew lisbon to helsinki great ...</td>\n",
       "      <td>1</td>\n",
       "      <td>1</td>\n",
       "    </tr>\n",
       "    <tr>\n",
       "      <th>59216</th>\n",
       "      <td>verified review keflavik to dublin this is the...</td>\n",
       "      <td>0</td>\n",
       "      <td>0</td>\n",
       "    </tr>\n",
       "    <tr>\n",
       "      <th>15506</th>\n",
       "      <td>first time flying with them and loved every mi...</td>\n",
       "      <td>1</td>\n",
       "      <td>1</td>\n",
       "    </tr>\n",
       "    <tr>\n",
       "      <th>49865</th>\n",
       "      <td>any money you save is negated by carry on bag ...</td>\n",
       "      <td>0</td>\n",
       "      <td>0</td>\n",
       "    </tr>\n",
       "    <tr>\n",
       "      <th>36882</th>\n",
       "      <td>the first time travelled with ryanair my probl...</td>\n",
       "      <td>0</td>\n",
       "      <td>0</td>\n",
       "    </tr>\n",
       "  </tbody>\n",
       "</table>\n",
       "<p>11950 rows × 3 columns</p>\n",
       "</div>"
      ],
      "text/plain": [
       "                                            review_clean  recommended  \\\n",
       "34047  verified review dallas to abu dhabi disappoint...            0   \n",
       "16730  trip verified mexico city to puerto vallarta w...            1   \n",
       "16382  travelled aeroflot russian airline from new yo...            1   \n",
       "31536  trip verified brisbane to tokyo via sydney her...            0   \n",
       "10476  verified review one of the worst experience ev...            0   \n",
       "...                                                  ...          ...   \n",
       "37936  verified review flew lisbon to helsinki great ...            1   \n",
       "59216  verified review keflavik to dublin this is the...            0   \n",
       "15506  first time flying with them and loved every mi...            1   \n",
       "49865  any money you save is negated by carry on bag ...            0   \n",
       "36882  the first time travelled with ryanair my probl...            0   \n",
       "\n",
       "       Predicted  \n",
       "34047          0  \n",
       "16730          1  \n",
       "16382          1  \n",
       "31536          0  \n",
       "10476          0  \n",
       "...          ...  \n",
       "37936          1  \n",
       "59216          0  \n",
       "15506          1  \n",
       "49865          0  \n",
       "36882          0  \n",
       "\n",
       "[11950 rows x 3 columns]"
      ]
     },
     "execution_count": 26,
     "metadata": {},
     "output_type": "execute_result"
    }
   ],
   "source": [
    "test_pred_df = pd.concat([X_test, y_test, y_pred], axis = 1)\n",
    "test_pred_df"
   ]
  },
  {
   "cell_type": "code",
   "execution_count": 27,
   "metadata": {},
   "outputs": [
    {
     "data": {
      "text/html": [
       "<div>\n",
       "<style scoped>\n",
       "    .dataframe tbody tr th:only-of-type {\n",
       "        vertical-align: middle;\n",
       "    }\n",
       "\n",
       "    .dataframe tbody tr th {\n",
       "        vertical-align: top;\n",
       "    }\n",
       "\n",
       "    .dataframe thead th {\n",
       "        text-align: right;\n",
       "    }\n",
       "</style>\n",
       "<table border=\"1\" class=\"dataframe\">\n",
       "  <thead>\n",
       "    <tr style=\"text-align: right;\">\n",
       "      <th></th>\n",
       "      <th>review_clean</th>\n",
       "      <th>recommended</th>\n",
       "      <th>Predicted</th>\n",
       "    </tr>\n",
       "  </thead>\n",
       "  <tbody>\n",
       "    <tr>\n",
       "      <th>33318</th>\n",
       "      <td>june af athens paris seat wa bit narrow and co...</td>\n",
       "      <td>1</td>\n",
       "      <td>0</td>\n",
       "    </tr>\n",
       "    <tr>\n",
       "      <th>58046</th>\n",
       "      <td>had been reading norwegian review here since b...</td>\n",
       "      <td>1</td>\n",
       "      <td>0</td>\n",
       "    </tr>\n",
       "    <tr>\n",
       "      <th>37540</th>\n",
       "      <td>outbound from heathrow wa good food wa served ...</td>\n",
       "      <td>1</td>\n",
       "      <td>0</td>\n",
       "    </tr>\n",
       "    <tr>\n",
       "      <th>34403</th>\n",
       "      <td>the flight from bangalore to abu dhabi wa smoo...</td>\n",
       "      <td>1</td>\n",
       "      <td>0</td>\n",
       "    </tr>\n",
       "    <tr>\n",
       "      <th>50555</th>\n",
       "      <td>verified review flew mahon to barcelona boardi...</td>\n",
       "      <td>1</td>\n",
       "      <td>0</td>\n",
       "    </tr>\n",
       "    <tr>\n",
       "      <th>...</th>\n",
       "      <td>...</td>\n",
       "      <td>...</td>\n",
       "      <td>...</td>\n",
       "    </tr>\n",
       "    <tr>\n",
       "      <th>2705</th>\n",
       "      <td>flew for the first time with qatar cdg doh mle...</td>\n",
       "      <td>1</td>\n",
       "      <td>0</td>\n",
       "    </tr>\n",
       "    <tr>\n",
       "      <th>27933</th>\n",
       "      <td>minute domestic flight hel vaa operated by nor...</td>\n",
       "      <td>1</td>\n",
       "      <td>0</td>\n",
       "    </tr>\n",
       "    <tr>\n",
       "      <th>6427</th>\n",
       "      <td>lagos to new york via amsterdam the connecting...</td>\n",
       "      <td>1</td>\n",
       "      <td>0</td>\n",
       "    </tr>\n",
       "    <tr>\n",
       "      <th>11789</th>\n",
       "      <td>baltimore to wichita with southwest airline pu...</td>\n",
       "      <td>1</td>\n",
       "      <td>0</td>\n",
       "    </tr>\n",
       "    <tr>\n",
       "      <th>13946</th>\n",
       "      <td>united airline from dubai to dallas fort worth...</td>\n",
       "      <td>1</td>\n",
       "      <td>0</td>\n",
       "    </tr>\n",
       "  </tbody>\n",
       "</table>\n",
       "<p>586 rows × 3 columns</p>\n",
       "</div>"
      ],
      "text/plain": [
       "                                            review_clean  recommended  \\\n",
       "33318  june af athens paris seat wa bit narrow and co...            1   \n",
       "58046  had been reading norwegian review here since b...            1   \n",
       "37540  outbound from heathrow wa good food wa served ...            1   \n",
       "34403  the flight from bangalore to abu dhabi wa smoo...            1   \n",
       "50555  verified review flew mahon to barcelona boardi...            1   \n",
       "...                                                  ...          ...   \n",
       "2705   flew for the first time with qatar cdg doh mle...            1   \n",
       "27933  minute domestic flight hel vaa operated by nor...            1   \n",
       "6427   lagos to new york via amsterdam the connecting...            1   \n",
       "11789  baltimore to wichita with southwest airline pu...            1   \n",
       "13946  united airline from dubai to dallas fort worth...            1   \n",
       "\n",
       "       Predicted  \n",
       "33318          0  \n",
       "58046          0  \n",
       "37540          0  \n",
       "34403          0  \n",
       "50555          0  \n",
       "...          ...  \n",
       "2705           0  \n",
       "27933          0  \n",
       "6427           0  \n",
       "11789          0  \n",
       "13946          0  \n",
       "\n",
       "[586 rows x 3 columns]"
      ]
     },
     "execution_count": 27,
     "metadata": {},
     "output_type": "execute_result"
    }
   ],
   "source": [
    "test_pred_df[(test_pred_df['recommended'] == 1) & (test_pred_df[\"Predicted\"] == 0)]"
   ]
  },
  {
   "cell_type": "code",
   "execution_count": 30,
   "metadata": {},
   "outputs": [
    {
     "name": "stdout",
     "output_type": "stream",
     "text": [
      "              precision    recall  f1-score   support\n",
      "\n",
      "           0       0.90      0.89      0.90      6240\n",
      "           1       0.88      0.90      0.89      5710\n",
      "\n",
      "    accuracy                           0.89     11950\n",
      "   macro avg       0.89      0.89      0.89     11950\n",
      "weighted avg       0.89      0.89      0.89     11950\n",
      "\n"
     ]
    }
   ],
   "source": [
    "# Classification Report\n",
    "from sklearn.metrics import classification_report\n",
    "print(classification_report(y_test, y_pred))"
   ]
  },
  {
   "cell_type": "code",
   "execution_count": 33,
   "metadata": {},
   "outputs": [
    {
     "name": "stdout",
     "output_type": "stream",
     "text": [
      "Clean_tweet ====> \"such horrible flight experience the staff wa rude and seat we are uncomfortable do not recommend\"\n",
      "1/1 [==============================] - 0s 35ms/step\n"
     ]
    },
    {
     "data": {
      "text/plain": [
       "array([[0.00411902]], dtype=float32)"
      ]
     },
     "execution_count": 33,
     "metadata": {},
     "output_type": "execute_result"
    }
   ],
   "source": [
    "# Taking Predictions on Random Reviews\n",
    "\n",
    "review = '''\n",
    "    Such a horrible flight experience. The staff was rude and seats were uncomfortable. Do not recommend\n",
    "'''\n",
    "clean_review = preprocess(review)\n",
    "print(f'Clean_tweet ====> \"{clean_review}\"')\n",
    "load_model.predict([clean_review])"
   ]
  },
  {
   "cell_type": "code",
   "execution_count": 7,
   "metadata": {},
   "outputs": [
    {
     "name": "stdout",
     "output_type": "stream",
     "text": [
      "Clean_tweet ====> \"excellent flight experience polite crew definitely commend\"\n",
      "1/1 [==============================] - 0s 39ms/step\n"
     ]
    },
    {
     "data": {
      "text/plain": [
       "array([[0.98793495]], dtype=float32)"
      ]
     },
     "execution_count": 7,
     "metadata": {},
     "output_type": "execute_result"
    }
   ],
   "source": [
    "# Taking Predictions on Random Reviews\n",
    "\n",
    "review = '''\n",
    "    Excellent flight experience. Polite crew. Definitely commend\n",
    "'''\n",
    "clean_review = preprocess(review)\n",
    "print(f'Clean_tweet ====> \"{clean_review}\"')\n",
    "load_model.predict([clean_review])"
   ]
  }
 ],
 "metadata": {
  "kernelspec": {
   "display_name": "Python 3 (ipykernel)",
   "language": "python",
   "name": "python3"
  },
  "language_info": {
   "codemirror_mode": {
    "name": "ipython",
    "version": 3
   },
   "file_extension": ".py",
   "mimetype": "text/x-python",
   "name": "python",
   "nbconvert_exporter": "python",
   "pygments_lexer": "ipython3",
   "version": "3.10.10"
  }
 },
 "nbformat": 4,
 "nbformat_minor": 4
}
